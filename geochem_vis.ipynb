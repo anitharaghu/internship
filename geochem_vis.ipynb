{
 "cells": [
  {
   "cell_type": "code",
   "execution_count": 1,
   "metadata": {},
   "outputs": [],
   "source": [
    "import pandas as pd\n",
    "import matplotlib.pyplot as plt\n",
    "import descartes\n",
    "import geopandas as gpd\n",
    "from shapely.geometry import Point, Polygon"
   ]
  },
  {
   "cell_type": "code",
   "execution_count": 12,
   "metadata": {},
   "outputs": [],
   "source": [
    "import seaborn as sns"
   ]
  },
  {
   "cell_type": "code",
   "execution_count": 3,
   "metadata": {},
   "outputs": [],
   "source": [
    "local_map = gpd.read_file('F:\\summer internship\\dataset\\geochem\\FME_68185551_1607917942205_6252\\GSNSWDataset\\MapBlocks.shp')"
   ]
  },
  {
   "cell_type": "code",
   "execution_count": 4,
   "metadata": {},
   "outputs": [
    {
     "data": {
      "text/plain": [
       "<matplotlib.axes._subplots.AxesSubplot at 0x268fdd6da48>"
      ]
     },
     "execution_count": 4,
     "metadata": {},
     "output_type": "execute_result"
    },
    {
     "data": {
      "image/png": "[encoded data removed]",
      "text/plain": [
       "<Figure size 1080x1080 with 1 Axes>"
      ]
     },
     "metadata": {
      "needs_background": "light"
     },
     "output_type": "display_data"
    }
   ],
   "source": [
    "fig,ax = plt.subplots(figsize = (15,15))\n",
    "local_map.plot(ax=ax)"
   ]
  },
  {
   "cell_type": "code",
   "execution_count": 2,
   "metadata": {},
   "outputs": [
    {
     "data": {
      "text/html": [
       "<div>\n",
       "<style scoped>\n",
       "    .dataframe tbody tr th:only-of-type {\n",
       "        vertical-align: middle;\n",
       "    }\n",
       "\n",
       "    .dataframe tbody tr th {\n",
       "        vertical-align: top;\n",
       "    }\n",
       "\n",
       "    .dataframe thead th {\n",
       "        text-align: right;\n",
       "    }\n",
       "</style>\n",
       "<table border=\"1\" class=\"dataframe\">\n",
       "  <thead>\n",
       "    <tr style=\"text-align: right;\">\n",
       "      <th></th>\n",
       "      <th>RPT_ID</th>\n",
       "      <th>RIN</th>\n",
       "      <th>PERIODEND</th>\n",
       "      <th>RPT_TYPE</th>\n",
       "      <th>SAMPLEID</th>\n",
       "      <th>SAMPCODE</th>\n",
       "      <th>FILE_ID</th>\n",
       "      <th>LAT94</th>\n",
       "      <th>LNG94</th>\n",
       "      <th>Ag_ppm</th>\n",
       "      <th>...</th>\n",
       "      <th>Pt_ppm</th>\n",
       "      <th>S_pct</th>\n",
       "      <th>Sb_ppm</th>\n",
       "      <th>Se_ppm</th>\n",
       "      <th>Sn_ppm</th>\n",
       "      <th>Sr_ppm</th>\n",
       "      <th>Te_ppm</th>\n",
       "      <th>Tl_ppm</th>\n",
       "      <th>W_ppm</th>\n",
       "      <th>Zn_ppm</th>\n",
       "    </tr>\n",
       "  </thead>\n",
       "  <tbody>\n",
       "    <tr>\n",
       "      <td>0</td>\n",
       "      <td>26</td>\n",
       "      <td>R00029259</td>\n",
       "      <td>20030821</td>\n",
       "      <td>A</td>\n",
       "      <td>3250</td>\n",
       "      <td>ROCKCHIP</td>\n",
       "      <td>108</td>\n",
       "      <td>-32.162097</td>\n",
       "      <td>141.081325</td>\n",
       "      <td>38.0</td>\n",
       "      <td>...</td>\n",
       "      <td>NaN</td>\n",
       "      <td>0.050</td>\n",
       "      <td>NaN</td>\n",
       "      <td>NaN</td>\n",
       "      <td>NaN</td>\n",
       "      <td>NaN</td>\n",
       "      <td>NaN</td>\n",
       "      <td>NaN</td>\n",
       "      <td>NaN</td>\n",
       "      <td>38.0</td>\n",
       "    </tr>\n",
       "    <tr>\n",
       "      <td>1</td>\n",
       "      <td>26</td>\n",
       "      <td>R00029259</td>\n",
       "      <td>20030821</td>\n",
       "      <td>A</td>\n",
       "      <td>3251</td>\n",
       "      <td>ROCKCHIP</td>\n",
       "      <td>108</td>\n",
       "      <td>-32.199129</td>\n",
       "      <td>141.067681</td>\n",
       "      <td>0.0</td>\n",
       "      <td>...</td>\n",
       "      <td>NaN</td>\n",
       "      <td>0.010</td>\n",
       "      <td>NaN</td>\n",
       "      <td>NaN</td>\n",
       "      <td>NaN</td>\n",
       "      <td>NaN</td>\n",
       "      <td>NaN</td>\n",
       "      <td>NaN</td>\n",
       "      <td>NaN</td>\n",
       "      <td>155.0</td>\n",
       "    </tr>\n",
       "    <tr>\n",
       "      <td>2</td>\n",
       "      <td>26</td>\n",
       "      <td>R00029259</td>\n",
       "      <td>20030821</td>\n",
       "      <td>A</td>\n",
       "      <td>3252</td>\n",
       "      <td>ROCKCHIP</td>\n",
       "      <td>108</td>\n",
       "      <td>-32.206340</td>\n",
       "      <td>141.039005</td>\n",
       "      <td>0.0</td>\n",
       "      <td>...</td>\n",
       "      <td>NaN</td>\n",
       "      <td>0.045</td>\n",
       "      <td>NaN</td>\n",
       "      <td>NaN</td>\n",
       "      <td>NaN</td>\n",
       "      <td>NaN</td>\n",
       "      <td>NaN</td>\n",
       "      <td>NaN</td>\n",
       "      <td>NaN</td>\n",
       "      <td>170.0</td>\n",
       "    </tr>\n",
       "    <tr>\n",
       "      <td>3</td>\n",
       "      <td>26</td>\n",
       "      <td>R00029259</td>\n",
       "      <td>20030821</td>\n",
       "      <td>A</td>\n",
       "      <td>3253</td>\n",
       "      <td>ROCKCHIP</td>\n",
       "      <td>108</td>\n",
       "      <td>-32.206232</td>\n",
       "      <td>141.039218</td>\n",
       "      <td>0.0</td>\n",
       "      <td>...</td>\n",
       "      <td>NaN</td>\n",
       "      <td>0.030</td>\n",
       "      <td>NaN</td>\n",
       "      <td>NaN</td>\n",
       "      <td>NaN</td>\n",
       "      <td>NaN</td>\n",
       "      <td>NaN</td>\n",
       "      <td>NaN</td>\n",
       "      <td>NaN</td>\n",
       "      <td>110.0</td>\n",
       "    </tr>\n",
       "    <tr>\n",
       "      <td>4</td>\n",
       "      <td>26</td>\n",
       "      <td>R00029259</td>\n",
       "      <td>20030821</td>\n",
       "      <td>A</td>\n",
       "      <td>3254</td>\n",
       "      <td>ROCKCHIP</td>\n",
       "      <td>108</td>\n",
       "      <td>-32.208333</td>\n",
       "      <td>141.042115</td>\n",
       "      <td>0.0</td>\n",
       "      <td>...</td>\n",
       "      <td>NaN</td>\n",
       "      <td>0.015</td>\n",
       "      <td>NaN</td>\n",
       "      <td>NaN</td>\n",
       "      <td>NaN</td>\n",
       "      <td>NaN</td>\n",
       "      <td>NaN</td>\n",
       "      <td>NaN</td>\n",
       "      <td>NaN</td>\n",
       "      <td>125.0</td>\n",
       "    </tr>\n",
       "  </tbody>\n",
       "</table>\n",
       "<p>5 rows × 34 columns</p>\n",
       "</div>"
      ],
      "text/plain": [
       "   RPT_ID        RIN  PERIODEND RPT_TYPE SAMPLEID  SAMPCODE  FILE_ID  \\\n",
       "0      26  R00029259   20030821        A     3250  ROCKCHIP      108   \n",
       "1      26  R00029259   20030821        A     3251  ROCKCHIP      108   \n",
       "2      26  R00029259   20030821        A     3252  ROCKCHIP      108   \n",
       "3      26  R00029259   20030821        A     3253  ROCKCHIP      108   \n",
       "4      26  R00029259   20030821        A     3254  ROCKCHIP      108   \n",
       "\n",
       "       LAT94       LNG94  Ag_ppm  ...  Pt_ppm  S_pct  Sb_ppm  Se_ppm  Sn_ppm  \\\n",
       "0 -32.162097  141.081325    38.0  ...     NaN  0.050     NaN     NaN     NaN   \n",
       "1 -32.199129  141.067681     0.0  ...     NaN  0.010     NaN     NaN     NaN   \n",
       "2 -32.206340  141.039005     0.0  ...     NaN  0.045     NaN     NaN     NaN   \n",
       "3 -32.206232  141.039218     0.0  ...     NaN  0.030     NaN     NaN     NaN   \n",
       "4 -32.208333  141.042115     0.0  ...     NaN  0.015     NaN     NaN     NaN   \n",
       "\n",
       "   Sr_ppm  Te_ppm  Tl_ppm  W_ppm  Zn_ppm  \n",
       "0     NaN     NaN     NaN    NaN    38.0  \n",
       "1     NaN     NaN     NaN    NaN   155.0  \n",
       "2     NaN     NaN     NaN    NaN   170.0  \n",
       "3     NaN     NaN     NaN    NaN   110.0  \n",
       "4     NaN     NaN     NaN    NaN   125.0  \n",
       "\n",
       "[5 rows x 34 columns]"
      ]
     },
     "execution_count": 2,
     "metadata": {},
     "output_type": "execute_result"
    }
   ],
   "source": [
    "df = pd.read_csv('F:\\summer internship\\dataset\\geochem\\GSNSWDataset\\ASSAY_SURFSAMP_AuBasePath.csv')\n",
    "crs = {'init': 'epsg:4326'}\n",
    "df.head()"
   ]
  },
  {
   "cell_type": "code",
   "execution_count": 7,
   "metadata": {},
   "outputs": [
    {
     "data": {
      "text/plain": [
       "[<shapely.geometry.point.Point at 0x2688a952c88>,\n",
       " <shapely.geometry.point.Point at 0x2688a952108>,\n",
       " <shapely.geometry.point.Point at 0x2688a952dc8>]"
      ]
     },
     "execution_count": 7,
     "metadata": {},
     "output_type": "execute_result"
    }
   ],
   "source": [
    "geometry = [Point(xy) for xy in zip(df[\"LNG94\"], df[\"LAT94\"])]\n",
    "geometry[:3]"
   ]
  },
  {
   "cell_type": "code",
   "execution_count": 9,
   "metadata": {},
   "outputs": [
    {
     "data": {
      "text/html": [
       "<div>\n",
       "<style scoped>\n",
       "    .dataframe tbody tr th:only-of-type {\n",
       "        vertical-align: middle;\n",
       "    }\n",
       "\n",
       "    .dataframe tbody tr th {\n",
       "        vertical-align: top;\n",
       "    }\n",
       "\n",
       "    .dataframe thead th {\n",
       "        text-align: right;\n",
       "    }\n",
       "</style>\n",
       "<table border=\"1\" class=\"dataframe\">\n",
       "  <thead>\n",
       "    <tr style=\"text-align: right;\">\n",
       "      <th></th>\n",
       "      <th>RPT_ID</th>\n",
       "      <th>RIN</th>\n",
       "      <th>PERIODEND</th>\n",
       "      <th>RPT_TYPE</th>\n",
       "      <th>SAMPLEID</th>\n",
       "      <th>SAMPCODE</th>\n",
       "      <th>FILE_ID</th>\n",
       "      <th>LAT94</th>\n",
       "      <th>LNG94</th>\n",
       "      <th>Ag_ppm</th>\n",
       "      <th>...</th>\n",
       "      <th>S_pct</th>\n",
       "      <th>Sb_ppm</th>\n",
       "      <th>Se_ppm</th>\n",
       "      <th>Sn_ppm</th>\n",
       "      <th>Sr_ppm</th>\n",
       "      <th>Te_ppm</th>\n",
       "      <th>Tl_ppm</th>\n",
       "      <th>W_ppm</th>\n",
       "      <th>Zn_ppm</th>\n",
       "      <th>geometry</th>\n",
       "    </tr>\n",
       "  </thead>\n",
       "  <tbody>\n",
       "    <tr>\n",
       "      <td>0</td>\n",
       "      <td>26</td>\n",
       "      <td>R00029259</td>\n",
       "      <td>20030821</td>\n",
       "      <td>A</td>\n",
       "      <td>3250</td>\n",
       "      <td>ROCKCHIP</td>\n",
       "      <td>108</td>\n",
       "      <td>-32.162097</td>\n",
       "      <td>141.081325</td>\n",
       "      <td>38.0</td>\n",
       "      <td>...</td>\n",
       "      <td>0.050</td>\n",
       "      <td>NaN</td>\n",
       "      <td>NaN</td>\n",
       "      <td>NaN</td>\n",
       "      <td>NaN</td>\n",
       "      <td>NaN</td>\n",
       "      <td>NaN</td>\n",
       "      <td>NaN</td>\n",
       "      <td>38.0</td>\n",
       "      <td>POINT (141.08132 -32.16210)</td>\n",
       "    </tr>\n",
       "    <tr>\n",
       "      <td>1</td>\n",
       "      <td>26</td>\n",
       "      <td>R00029259</td>\n",
       "      <td>20030821</td>\n",
       "      <td>A</td>\n",
       "      <td>3251</td>\n",
       "      <td>ROCKCHIP</td>\n",
       "      <td>108</td>\n",
       "      <td>-32.199129</td>\n",
       "      <td>141.067681</td>\n",
       "      <td>0.0</td>\n",
       "      <td>...</td>\n",
       "      <td>0.010</td>\n",
       "      <td>NaN</td>\n",
       "      <td>NaN</td>\n",
       "      <td>NaN</td>\n",
       "      <td>NaN</td>\n",
       "      <td>NaN</td>\n",
       "      <td>NaN</td>\n",
       "      <td>NaN</td>\n",
       "      <td>155.0</td>\n",
       "      <td>POINT (141.06768 -32.19913)</td>\n",
       "    </tr>\n",
       "    <tr>\n",
       "      <td>2</td>\n",
       "      <td>26</td>\n",
       "      <td>R00029259</td>\n",
       "      <td>20030821</td>\n",
       "      <td>A</td>\n",
       "      <td>3252</td>\n",
       "      <td>ROCKCHIP</td>\n",
       "      <td>108</td>\n",
       "      <td>-32.206340</td>\n",
       "      <td>141.039005</td>\n",
       "      <td>0.0</td>\n",
       "      <td>...</td>\n",
       "      <td>0.045</td>\n",
       "      <td>NaN</td>\n",
       "      <td>NaN</td>\n",
       "      <td>NaN</td>\n",
       "      <td>NaN</td>\n",
       "      <td>NaN</td>\n",
       "      <td>NaN</td>\n",
       "      <td>NaN</td>\n",
       "      <td>170.0</td>\n",
       "      <td>POINT (141.03901 -32.20634)</td>\n",
       "    </tr>\n",
       "    <tr>\n",
       "      <td>3</td>\n",
       "      <td>26</td>\n",
       "      <td>R00029259</td>\n",
       "      <td>20030821</td>\n",
       "      <td>A</td>\n",
       "      <td>3253</td>\n",
       "      <td>ROCKCHIP</td>\n",
       "      <td>108</td>\n",
       "      <td>-32.206232</td>\n",
       "      <td>141.039218</td>\n",
       "      <td>0.0</td>\n",
       "      <td>...</td>\n",
       "      <td>0.030</td>\n",
       "      <td>NaN</td>\n",
       "      <td>NaN</td>\n",
       "      <td>NaN</td>\n",
       "      <td>NaN</td>\n",
       "      <td>NaN</td>\n",
       "      <td>NaN</td>\n",
       "      <td>NaN</td>\n",
       "      <td>110.0</td>\n",
       "      <td>POINT (141.03922 -32.20623)</td>\n",
       "    </tr>\n",
       "    <tr>\n",
       "      <td>4</td>\n",
       "      <td>26</td>\n",
       "      <td>R00029259</td>\n",
       "      <td>20030821</td>\n",
       "      <td>A</td>\n",
       "      <td>3254</td>\n",
       "      <td>ROCKCHIP</td>\n",
       "      <td>108</td>\n",
       "      <td>-32.208333</td>\n",
       "      <td>141.042115</td>\n",
       "      <td>0.0</td>\n",
       "      <td>...</td>\n",
       "      <td>0.015</td>\n",
       "      <td>NaN</td>\n",
       "      <td>NaN</td>\n",
       "      <td>NaN</td>\n",
       "      <td>NaN</td>\n",
       "      <td>NaN</td>\n",
       "      <td>NaN</td>\n",
       "      <td>NaN</td>\n",
       "      <td>125.0</td>\n",
       "      <td>POINT (141.04212 -32.20833)</td>\n",
       "    </tr>\n",
       "  </tbody>\n",
       "</table>\n",
       "<p>5 rows × 35 columns</p>\n",
       "</div>"
      ],
      "text/plain": [
       "   RPT_ID        RIN  PERIODEND RPT_TYPE SAMPLEID  SAMPCODE  FILE_ID  \\\n",
       "0      26  R00029259   20030821        A     3250  ROCKCHIP      108   \n",
       "1      26  R00029259   20030821        A     3251  ROCKCHIP      108   \n",
       "2      26  R00029259   20030821        A     3252  ROCKCHIP      108   \n",
       "3      26  R00029259   20030821        A     3253  ROCKCHIP      108   \n",
       "4      26  R00029259   20030821        A     3254  ROCKCHIP      108   \n",
       "\n",
       "       LAT94       LNG94  Ag_ppm  ...  S_pct  Sb_ppm  Se_ppm  Sn_ppm  Sr_ppm  \\\n",
       "0 -32.162097  141.081325    38.0  ...  0.050     NaN     NaN     NaN     NaN   \n",
       "1 -32.199129  141.067681     0.0  ...  0.010     NaN     NaN     NaN     NaN   \n",
       "2 -32.206340  141.039005     0.0  ...  0.045     NaN     NaN     NaN     NaN   \n",
       "3 -32.206232  141.039218     0.0  ...  0.030     NaN     NaN     NaN     NaN   \n",
       "4 -32.208333  141.042115     0.0  ...  0.015     NaN     NaN     NaN     NaN   \n",
       "\n",
       "   Te_ppm  Tl_ppm  W_ppm  Zn_ppm                     geometry  \n",
       "0     NaN     NaN    NaN    38.0  POINT (141.08132 -32.16210)  \n",
       "1     NaN     NaN    NaN   155.0  POINT (141.06768 -32.19913)  \n",
       "2     NaN     NaN    NaN   170.0  POINT (141.03901 -32.20634)  \n",
       "3     NaN     NaN    NaN   110.0  POINT (141.03922 -32.20623)  \n",
       "4     NaN     NaN    NaN   125.0  POINT (141.04212 -32.20833)  \n",
       "\n",
       "[5 rows x 35 columns]"
      ]
     },
     "execution_count": 9,
     "metadata": {},
     "output_type": "execute_result"
    }
   ],
   "source": [
    "geo_df = gpd.GeoDataFrame(df, crs = crs, geometry = geometry)\n",
    "geo_df.head()"
   ]
  },
  {
   "cell_type": "code",
   "execution_count": 10,
   "metadata": {},
   "outputs": [
    {
     "data": {
      "text/plain": [
       "<matplotlib.axes._subplots.AxesSubplot at 0x268fddd7348>"
      ]
     },
     "execution_count": 10,
     "metadata": {},
     "output_type": "execute_result"
    },
    {
     "data": {
      "image/png": "[encoded data removed]",
      "text/plain": [
       "<Figure size 432x288 with 1 Axes>"
      ]
     },
     "metadata": {
      "needs_background": "light"
     },
     "output_type": "display_data"
    }
   ],
   "source": [
    "geo_df.plot()"
   ]
  },
  {
   "cell_type": "code",
   "execution_count": 11,
   "metadata": {},
   "outputs": [
    {
     "data": {
      "text/plain": [
       "<matplotlib.axes._subplots.AxesSubplot at 0x268fddd4848>"
      ]
     },
     "execution_count": 11,
     "metadata": {},
     "output_type": "execute_result"
    },
    {
     "data": {
      "image/png": "[encoded data removed]",
      "text/plain": [
       "<Figure size 432x288 with 1 Axes>"
      ]
     },
     "metadata": {
      "needs_background": "light"
     },
     "output_type": "display_data"
    }
   ],
   "source": [
    "geo_df.plot(column = 'Au_ppm')"
   ]
  },
  {
   "cell_type": "code",
   "execution_count": 23,
   "metadata": {},
   "outputs": [
    {
     "data": {
      "text/html": [
       "<div>\n",
       "<style scoped>\n",
       "    .dataframe tbody tr th:only-of-type {\n",
       "        vertical-align: middle;\n",
       "    }\n",
       "\n",
       "    .dataframe tbody tr th {\n",
       "        vertical-align: top;\n",
       "    }\n",
       "\n",
       "    .dataframe thead th {\n",
       "        text-align: right;\n",
       "    }\n",
       "</style>\n",
       "<table border=\"1\" class=\"dataframe\">\n",
       "  <thead>\n",
       "    <tr style=\"text-align: right;\">\n",
       "      <th></th>\n",
       "      <th>Ag_ppm</th>\n",
       "      <th>As_ppm</th>\n",
       "      <th>Au_ppm</th>\n",
       "      <th>Bi_ppm</th>\n",
       "      <th>Co_ppm</th>\n",
       "    </tr>\n",
       "  </thead>\n",
       "  <tbody>\n",
       "    <tr>\n",
       "      <td>0</td>\n",
       "      <td>38.0</td>\n",
       "      <td>4.0</td>\n",
       "      <td>0.200</td>\n",
       "      <td>NaN</td>\n",
       "      <td>15.0</td>\n",
       "    </tr>\n",
       "    <tr>\n",
       "      <td>1</td>\n",
       "      <td>0.0</td>\n",
       "      <td>50.0</td>\n",
       "      <td>0.004</td>\n",
       "      <td>NaN</td>\n",
       "      <td>3.0</td>\n",
       "    </tr>\n",
       "    <tr>\n",
       "      <td>2</td>\n",
       "      <td>0.0</td>\n",
       "      <td>24.0</td>\n",
       "      <td>0.007</td>\n",
       "      <td>NaN</td>\n",
       "      <td>60.0</td>\n",
       "    </tr>\n",
       "    <tr>\n",
       "      <td>3</td>\n",
       "      <td>0.0</td>\n",
       "      <td>48.0</td>\n",
       "      <td>0.008</td>\n",
       "      <td>NaN</td>\n",
       "      <td>120.0</td>\n",
       "    </tr>\n",
       "    <tr>\n",
       "      <td>4</td>\n",
       "      <td>0.0</td>\n",
       "      <td>20.0</td>\n",
       "      <td>0.022</td>\n",
       "      <td>NaN</td>\n",
       "      <td>18.0</td>\n",
       "    </tr>\n",
       "  </tbody>\n",
       "</table>\n",
       "</div>"
      ],
      "text/plain": [
       "   Ag_ppm  As_ppm  Au_ppm  Bi_ppm  Co_ppm\n",
       "0    38.0     4.0   0.200     NaN    15.0\n",
       "1     0.0    50.0   0.004     NaN     3.0\n",
       "2     0.0    24.0   0.007     NaN    60.0\n",
       "3     0.0    48.0   0.008     NaN   120.0\n",
       "4     0.0    20.0   0.022     NaN    18.0"
      ]
     },
     "execution_count": 23,
     "metadata": {},
     "output_type": "execute_result"
    }
   ],
   "source": [
    "pairs_df = df[['Ag_ppm', 'As_ppm', 'Au_ppm', 'Bi_ppm','Co_ppm']]\n",
    "pairs_df.head()"
   ]
  },
  {
   "cell_type": "code",
   "execution_count": 25,
   "metadata": {},
   "outputs": [
    {
     "name": "stderr",
     "output_type": "stream",
     "text": [
      "C:\\Users\\ANITHA\\Anaconda3\\lib\\site-packages\\numpy\\lib\\histograms.py:824: RuntimeWarning: invalid value encountered in greater_equal\n",
      "  keep = (tmp_a >= first_edge)\n",
      "C:\\Users\\ANITHA\\Anaconda3\\lib\\site-packages\\numpy\\lib\\histograms.py:825: RuntimeWarning: invalid value encountered in less_equal\n",
      "  keep &= (tmp_a <= last_edge)\n"
     ]
    },
    {
     "data": {
      "image/png": "[encoded data removed]",
      "text/plain": [
       "<Figure size 1440x1440 with 30 Axes>"
      ]
     },
     "metadata": {
      "needs_background": "light"
     },
     "output_type": "display_data"
    }
   ],
   "source": [
    "# create customized scatterplot that first filters out NaNs in feature pair\n",
    "def scatterFilter(x, y, **kwargs):\n",
    "\n",
    "    interimDf = pd.concat([x, y], axis=1)\n",
    "    interimDf.columns = ['x', 'y']\n",
    "    interimDf = interimDf[(~ pd.isnull(interimDf.x)) & (~ pd.isnull(interimDf.y))]\n",
    "\n",
    "    ax = plt.gca()\n",
    "    ax = plt.plot(interimDf.x.values, interimDf.y.values, 'o', **kwargs)\n",
    "\n",
    "# Create an instance of the PairGrid class.\n",
    "grid = sns.PairGrid(data=pairs_df, vars=list(pairs_df.columns), height = 4)\n",
    "\n",
    "# Map a scatter plot to the upper triangle\n",
    "grid = grid.map_upper(scatterFilter, color='lightblue')\n",
    "\n",
    "# Map a histogram to the diagonal\n",
    "grid = grid.map_diag(plt.hist, bins=10, edgecolor='k', color='lightblue')\n",
    "\n",
    "# Map a density plot to the lower triangle\n",
    "grid = grid.map_lower(scatterFilter, color='lightblue')"
   ]
  },
  {
   "cell_type": "code",
   "execution_count": 31,
   "metadata": {},
   "outputs": [],
   "source": [
    "df = pd.read_csv('F:\\summer internship\\dataset\\geochem\\GSNSWDataset\\ASSAY_SURFSAMP_AuBasePath.csv')"
   ]
  },
  {
   "cell_type": "code",
   "execution_count": 38,
   "metadata": {},
   "outputs": [],
   "source": [
    "df_map = df"
   ]
  },
  {
   "cell_type": "code",
   "execution_count": 3,
   "metadata": {},
   "outputs": [],
   "source": [
    "import folium"
   ]
  },
  {
   "cell_type": "code",
   "execution_count": 7,
   "metadata": {},
   "outputs": [],
   "source": [
    "def get_center_latlong(df):\n",
    "    centerlat = (df['LAT94'].max() + df['LAT94'].min()) / 2\n",
    "    centerlong = (df['LNG94'].max() + df['LNG94'].min()) / 2\n",
    "    return centerlat, centerlong"
   ]
  },
  {
   "cell_type": "code",
   "execution_count": null,
   "metadata": {},
   "outputs": [
    {
     "name": "stdout",
     "output_type": "stream",
     "text": [
      "715225\n"
     ]
    }
   ],
   "source": [
    "center = get_center_latlong(df)\n",
    "\n",
    "m = folium.Map(location=center, zoom_start=10)\n",
    "\n",
    "print(len(df_map))\n",
    "for i in range(len(df_map)):\n",
    "    folium.Circle(\n",
    "        location=[df_map.iloc[i]['LAT94'], df_map.iloc[i]['LNG94']],\n",
    "        radius=10,\n",
    "    ).add_to(m)\n",
    "    \n",
    "m"
   ]
  },
  {
   "cell_type": "code",
   "execution_count": 9,
   "metadata": {},
   "outputs": [],
   "source": []
  }
 ],
 "metadata": {
  "kernelspec": {
   "display_name": "Python 3",
   "language": "python",
   "name": "python3"
  },
  "language_info": {
   "codemirror_mode": {
    "name": "ipython",
    "version": 3
   },
   "file_extension": ".py",
   "mimetype": "text/x-python",
   "name": "python",
   "nbconvert_exporter": "python",
   "pygments_lexer": "ipython3",
   "version": "3.7.4"
  }
 },
 "nbformat": 4,
 "nbformat_minor": 4
}
